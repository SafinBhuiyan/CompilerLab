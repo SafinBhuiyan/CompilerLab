{
  "nbformat": 4,
  "nbformat_minor": 0,
  "metadata": {
    "colab": {
      "provenance": [],
      "authorship_tag": "ABX9TyP8Zx+dpecGsJ1RK32ub5s3",
      "include_colab_link": true
    },
    "kernelspec": {
      "name": "python3",
      "display_name": "Python 3"
    },
    "language_info": {
      "name": "python"
    }
  },
  "cells": [
    {
      "cell_type": "markdown",
      "metadata": {
        "id": "view-in-github",
        "colab_type": "text"
      },
      "source": [
        "<a href=\"https://colab.research.google.com/github/SafinBhuiyan/CompilerLab/blob/main/CompilerLab_02.ipynb\" target=\"_parent\"><img src=\"https://colab.research.google.com/assets/colab-badge.svg\" alt=\"Open In Colab\"/></a>"
      ]
    },
    {
      "cell_type": "code",
      "source": [
        "fruits = [\"apple\", \"banana\", \"orange\"]\n",
        "for x in fruits:\n",
        " print(x)"
      ],
      "metadata": {
        "colab": {
          "base_uri": "https://localhost:8080/"
        },
        "id": "5P30Fb4aWW3K",
        "outputId": "667a7f0d-d68a-45c1-d326-10b985db51e8"
      },
      "execution_count": 17,
      "outputs": [
        {
          "output_type": "stream",
          "name": "stdout",
          "text": [
            "apple\n",
            "banana\n",
            "orange\n"
          ]
        }
      ]
    },
    {
      "cell_type": "code",
      "execution_count": 20,
      "metadata": {
        "colab": {
          "base_uri": "https://localhost:8080/"
        },
        "id": "vhrF8o6vTcaB",
        "outputId": "208cafdf-c831-4523-aec5-ff85fa7cd92f"
      },
      "outputs": [
        {
          "output_type": "stream",
          "name": "stdout",
          "text": [
            "apple\n",
            "cucumber\n",
            "orange\n",
            "cherry\n"
          ]
        }
      ],
      "source": [
        "fruits = [\"apple\", \"cucumber\", \"banana\", \"orange\", \"cherry\"]\n",
        "for x in fruits:\n",
        " if x == \"banana\":\n",
        "  continue\n",
        " print(x)"
      ]
    },
    {
      "cell_type": "code",
      "source": [
        "for x in range(4):\n",
        "  print(x)\n",
        "else:\n",
        "  print(\"For loop executed\")"
      ],
      "metadata": {
        "colab": {
          "base_uri": "https://localhost:8080/"
        },
        "id": "5wjKSYGyZxYc",
        "outputId": "efb30be4-0f5d-4902-bce9-b7de2d1bb473"
      },
      "execution_count": 21,
      "outputs": [
        {
          "output_type": "stream",
          "name": "stdout",
          "text": [
            "0\n",
            "1\n",
            "2\n",
            "3\n",
            "For loop executed\n"
          ]
        }
      ]
    },
    {
      "cell_type": "code",
      "source": [
        "x = min(5,10,25)\n",
        "y = max(5,10,25)\n",
        "\n",
        "print(x)\n",
        "print(y)"
      ],
      "metadata": {
        "colab": {
          "base_uri": "https://localhost:8080/"
        },
        "id": "5iU68UAhZ_Xm",
        "outputId": "917026c8-a171-4029-fe7b-1bd94685d677"
      },
      "execution_count": 22,
      "outputs": [
        {
          "output_type": "stream",
          "name": "stdout",
          "text": [
            "5\n",
            "25\n"
          ]
        }
      ]
    },
    {
      "cell_type": "code",
      "source": [
        "x = pow(2,3)\n",
        "print(x)"
      ],
      "metadata": {
        "colab": {
          "base_uri": "https://localhost:8080/"
        },
        "id": "5cZHSq4qbA_G",
        "outputId": "bf70b626-b9e4-4ad0-c9b7-43013e2f8ca7"
      },
      "execution_count": 23,
      "outputs": [
        {
          "output_type": "stream",
          "name": "stdout",
          "text": [
            "8\n"
          ]
        }
      ]
    },
    {
      "cell_type": "code",
      "source": [
        "import math\n",
        "x = math.sqrt(81)\n",
        "print(x)"
      ],
      "metadata": {
        "colab": {
          "base_uri": "https://localhost:8080/"
        },
        "id": "rFbvrHCIbhyf",
        "outputId": "faaf06e1-2efe-4f0b-b286-84eec0a26163"
      },
      "execution_count": 25,
      "outputs": [
        {
          "output_type": "stream",
          "name": "stdout",
          "text": [
            "9.0\n"
          ]
        }
      ]
    },
    {
      "cell_type": "code",
      "source": [
        "import  math\n",
        "x = math.ceil(1.4)\n",
        "y = math.floor(1.8)\n",
        "\n",
        "print(x)\n",
        "print(y)"
      ],
      "metadata": {
        "colab": {
          "base_uri": "https://localhost:8080/"
        },
        "id": "vHTKbrqUbqtl",
        "outputId": "37672599-45d7-4acf-857f-0e8e760748f9"
      },
      "execution_count": 27,
      "outputs": [
        {
          "output_type": "stream",
          "name": "stdout",
          "text": [
            "2\n",
            "1\n"
          ]
        }
      ]
    },
    {
      "cell_type": "code",
      "source": [
        "num1 = 1.4\n",
        "num2 = 4.3\n",
        "\n",
        "sum = num1 + num2\n",
        "print('The sum of {0} and {1} is: {2}'. format(num1, num2, sum))"
      ],
      "metadata": {
        "colab": {
          "base_uri": "https://localhost:8080/"
        },
        "id": "J4_JgCBueKoh",
        "outputId": "47fb729f-9752-4ece-b644-9730581a760e"
      },
      "execution_count": 31,
      "outputs": [
        {
          "output_type": "stream",
          "name": "stdout",
          "text": [
            "The sum of 1.4 and 4.3 is: 5.699999999999999\n"
          ]
        }
      ]
    },
    {
      "cell_type": "code",
      "source": [
        "num1 = input(\"Enter first number: \")\n",
        "num2 = input(\"Enter second number: \")\n",
        "\n",
        "sum = float(num1) + float(num2)\n",
        "print('The sum of {0} and {1} is: {2}'. format(num1, num2, sum))"
      ],
      "metadata": {
        "colab": {
          "base_uri": "https://localhost:8080/"
        },
        "id": "9v9XoPVBe7Ts",
        "outputId": "e91271dc-e340-4341-959b-4b3ecf6ef545"
      },
      "execution_count": 34,
      "outputs": [
        {
          "output_type": "stream",
          "name": "stdout",
          "text": [
            "Enter first number: 2.2\n",
            "Enter second number: 2.3\n",
            "The sum of 2.2 and 2.3 is: 4.5\n"
          ]
        }
      ]
    }
  ]
}