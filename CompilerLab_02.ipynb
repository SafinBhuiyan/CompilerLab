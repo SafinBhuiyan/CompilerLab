{
  "nbformat": 4,
  "nbformat_minor": 0,
  "metadata": {
    "colab": {
      "provenance": [],
      "authorship_tag": "ABX9TyOOz27w5im4c7je0A3xEHoz",
      "include_colab_link": true
    },
    "kernelspec": {
      "name": "python3",
      "display_name": "Python 3"
    },
    "language_info": {
      "name": "python"
    }
  },
  "cells": [
    {
      "cell_type": "markdown",
      "metadata": {
        "id": "view-in-github",
        "colab_type": "text"
      },
      "source": [
        "<a href=\"https://colab.research.google.com/github/SafinBhuiyan/CompilerLab/blob/main/CompilerLab_02.ipynb\" target=\"_parent\"><img src=\"https://colab.research.google.com/assets/colab-badge.svg\" alt=\"Open In Colab\"/></a>"
      ]
    },
    {
      "cell_type": "code",
      "source": [
        "fruits = [\"apple\", \"banana\", \"orange\"]\n",
        "for x in fruits:\n",
        " print(x)"
      ],
      "metadata": {
        "colab": {
          "base_uri": "https://localhost:8080/"
        },
        "id": "5P30Fb4aWW3K",
        "outputId": "667a7f0d-d68a-45c1-d326-10b985db51e8"
      },
      "execution_count": null,
      "outputs": [
        {
          "output_type": "stream",
          "name": "stdout",
          "text": [
            "apple\n",
            "banana\n",
            "orange\n"
          ]
        }
      ]
    },
    {
      "cell_type": "code",
      "execution_count": null,
      "metadata": {
        "colab": {
          "base_uri": "https://localhost:8080/"
        },
        "id": "vhrF8o6vTcaB",
        "outputId": "208cafdf-c831-4523-aec5-ff85fa7cd92f"
      },
      "outputs": [
        {
          "output_type": "stream",
          "name": "stdout",
          "text": [
            "apple\n",
            "cucumber\n",
            "orange\n",
            "cherry\n"
          ]
        }
      ],
      "source": [
        "fruits = [\"apple\", \"cucumber\", \"banana\", \"orange\", \"cherry\"]\n",
        "for x in fruits:\n",
        " if x == \"banana\":\n",
        "  continue\n",
        " print(x)"
      ]
    },
    {
      "cell_type": "code",
      "source": [
        "for x in range(4):\n",
        "  print(x)\n",
        "else:\n",
        "  print(\"For loop executed\")"
      ],
      "metadata": {
        "colab": {
          "base_uri": "https://localhost:8080/"
        },
        "id": "5wjKSYGyZxYc",
        "outputId": "efb30be4-0f5d-4902-bce9-b7de2d1bb473"
      },
      "execution_count": null,
      "outputs": [
        {
          "output_type": "stream",
          "name": "stdout",
          "text": [
            "0\n",
            "1\n",
            "2\n",
            "3\n",
            "For loop executed\n"
          ]
        }
      ]
    },
    {
      "cell_type": "code",
      "source": [
        "x = min(5,10,25)\n",
        "y = max(5,10,25)\n",
        "\n",
        "print(x)\n",
        "print(y)"
      ],
      "metadata": {
        "colab": {
          "base_uri": "https://localhost:8080/"
        },
        "id": "5iU68UAhZ_Xm",
        "outputId": "917026c8-a171-4029-fe7b-1bd94685d677"
      },
      "execution_count": null,
      "outputs": [
        {
          "output_type": "stream",
          "name": "stdout",
          "text": [
            "5\n",
            "25\n"
          ]
        }
      ]
    },
    {
      "cell_type": "code",
      "source": [
        "x = pow(2,3)\n",
        "print(x)"
      ],
      "metadata": {
        "colab": {
          "base_uri": "https://localhost:8080/"
        },
        "id": "5cZHSq4qbA_G",
        "outputId": "bf70b626-b9e4-4ad0-c9b7-43013e2f8ca7"
      },
      "execution_count": null,
      "outputs": [
        {
          "output_type": "stream",
          "name": "stdout",
          "text": [
            "8\n"
          ]
        }
      ]
    },
    {
      "cell_type": "code",
      "source": [
        "import math\n",
        "x = math.sqrt(81)\n",
        "print(x)"
      ],
      "metadata": {
        "colab": {
          "base_uri": "https://localhost:8080/"
        },
        "id": "rFbvrHCIbhyf",
        "outputId": "faaf06e1-2efe-4f0b-b286-84eec0a26163"
      },
      "execution_count": null,
      "outputs": [
        {
          "output_type": "stream",
          "name": "stdout",
          "text": [
            "9.0\n"
          ]
        }
      ]
    },
    {
      "cell_type": "code",
      "source": [
        "import  math\n",
        "x = math.ceil(1.4)\n",
        "y = math.floor(1.8)\n",
        "\n",
        "print(x)\n",
        "print(y)"
      ],
      "metadata": {
        "colab": {
          "base_uri": "https://localhost:8080/"
        },
        "id": "vHTKbrqUbqtl",
        "outputId": "37672599-45d7-4acf-857f-0e8e760748f9"
      },
      "execution_count": null,
      "outputs": [
        {
          "output_type": "stream",
          "name": "stdout",
          "text": [
            "2\n",
            "1\n"
          ]
        }
      ]
    },
    {
      "cell_type": "code",
      "source": [
        "num1 = 1.4\n",
        "num2 = 4.3\n",
        "\n",
        "sum = num1 + num2\n",
        "print('The sum of {0} and {1} is: {2}'. format(num1, num2, sum))"
      ],
      "metadata": {
        "colab": {
          "base_uri": "https://localhost:8080/"
        },
        "id": "J4_JgCBueKoh",
        "outputId": "47fb729f-9752-4ece-b644-9730581a760e"
      },
      "execution_count": null,
      "outputs": [
        {
          "output_type": "stream",
          "name": "stdout",
          "text": [
            "The sum of 1.4 and 4.3 is: 5.699999999999999\n"
          ]
        }
      ]
    },
    {
      "cell_type": "code",
      "source": [
        "num1 = input(\"Enter first number: \")\n",
        "num2 = input(\"Enter second number: \")\n",
        "\n",
        "sum = float(num1) + float(num2)\n",
        "print('The sum of {0} and {1} is: {2}'. format(num1, num2, sum))"
      ],
      "metadata": {
        "colab": {
          "base_uri": "https://localhost:8080/"
        },
        "id": "9v9XoPVBe7Ts",
        "outputId": "e91271dc-e340-4341-959b-4b3ecf6ef545"
      },
      "execution_count": null,
      "outputs": [
        {
          "output_type": "stream",
          "name": "stdout",
          "text": [
            "Enter first number: 2.2\n",
            "Enter second number: 2.3\n",
            "The sum of 2.2 and 2.3 is: 4.5\n"
          ]
        }
      ]
    },
    {
      "cell_type": "code",
      "source": [
        "celcius = input(\"Enter the temp in Celcius: \")\n",
        "fahrenhite = (1.8*float(celcius))+32\n",
        "print(\"The temperature in fahrenhite: {0}\".format(fahrenhite))"
      ],
      "metadata": {
        "colab": {
          "base_uri": "https://localhost:8080/"
        },
        "id": "XLFRrlhFg8lx",
        "outputId": "2aea7d22-5c33-495c-cbda-9100b430a1de"
      },
      "execution_count": null,
      "outputs": [
        {
          "output_type": "stream",
          "name": "stdout",
          "text": [
            "Enter the temp in Celcius: 32\n",
            "The temperature in fahrenhite: 89.6\n"
          ]
        }
      ]
    },
    {
      "cell_type": "code",
      "source": [
        "file = open('/content/compilerLabReadFile.txt')\n",
        "read_file = file.read()\n",
        "print(read_file)"
      ],
      "metadata": {
        "colab": {
          "base_uri": "https://localhost:8080/"
        },
        "id": "Sv0nVhthkOm4",
        "outputId": "88fa69c2-f4dd-42be-f559-135371c889c1"
      },
      "execution_count": null,
      "outputs": [
        {
          "output_type": "stream",
          "name": "stdout",
          "text": [
            "Let's go for a walk\n"
          ]
        }
      ]
    },
    {
      "cell_type": "code",
      "source": [
        "file1 = open('/content/compilerLabWriteFile.txt', 'w')\n",
        "file1.write(\"It's a smoooth day ever!\\n\")\n",
        "file1.write(\"Let's go for a walk\")"
      ],
      "metadata": {
        "colab": {
          "base_uri": "https://localhost:8080/"
        },
        "id": "VrnSJCC5mGWW",
        "outputId": "9fa464d9-81d0-4ed7-d2d2-a4d9c6889fa2"
      },
      "execution_count": null,
      "outputs": [
        {
          "output_type": "execute_result",
          "data": {
            "text/plain": [
              "19"
            ]
          },
          "metadata": {},
          "execution_count": 61
        }
      ]
    },
    {
      "cell_type": "code",
      "source": [
        "#Count String Words\n",
        "number_of_words = 0\n",
        "\n",
        "with open('/content/compilerLabReadFile.txt','r') as file:\n",
        "  data =file.read()\n",
        "  lines = data.split()\n",
        "  number_of_words += len(lines)\n",
        "\n",
        "print(number_of_words)"
      ],
      "metadata": {
        "colab": {
          "base_uri": "https://localhost:8080/"
        },
        "id": "6wgWesHSqScl",
        "outputId": "8d6999b9-d8da-49fb-d970-e0538501872f"
      },
      "execution_count": null,
      "outputs": [
        {
          "output_type": "stream",
          "name": "stdout",
          "text": [
            "5\n"
          ]
        }
      ]
    },
    {
      "cell_type": "code",
      "source": [
        "#Count Number\n",
        "\n",
        "number_of_words = 0\n",
        "\n",
        "with open('/content/StudentCount.txt','r') as file:\n",
        "  data =file.read()\n",
        "  lines = data.split()\n",
        "\n",
        "  for word in lines:\n",
        "    if not word.isnumeric():\n",
        "      number_of_words += 1\n",
        "\n",
        "print(\"The number of word in this text file: \", number_of_words)"
      ],
      "metadata": {
        "colab": {
          "base_uri": "https://localhost:8080/"
        },
        "id": "iPkIIKoPu8gy",
        "outputId": "241a67a1-e19e-48b0-e773-2ce0eb029d63"
      },
      "execution_count": 70,
      "outputs": [
        {
          "output_type": "stream",
          "name": "stdout",
          "text": [
            "The number of word in this text file:  0\n"
          ]
        }
      ]
    }
  ]
}