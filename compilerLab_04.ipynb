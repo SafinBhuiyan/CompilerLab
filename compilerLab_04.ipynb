{
  "nbformat": 4,
  "nbformat_minor": 0,
  "metadata": {
    "colab": {
      "provenance": [],
      "authorship_tag": "ABX9TyM5GbDR5ZRw0hY4nxP43agq",
      "include_colab_link": true
    },
    "kernelspec": {
      "name": "python3",
      "display_name": "Python 3"
    },
    "language_info": {
      "name": "python"
    }
  },
  "cells": [
    {
      "cell_type": "markdown",
      "metadata": {
        "id": "view-in-github",
        "colab_type": "text"
      },
      "source": [
        "<a href=\"https://colab.research.google.com/github/SafinBhuiyan/CompilerLab/blob/main/compilerLab_04.ipynb\" target=\"_parent\"><img src=\"https://colab.research.google.com/assets/colab-badge.svg\" alt=\"Open In Colab\"/></a>"
      ]
    },
    {
      "cell_type": "code",
      "execution_count": 3,
      "metadata": {
        "colab": {
          "base_uri": "https://localhost:8080/"
        },
        "id": "mcgR0HdHdWkP",
        "outputId": "d91c6699-a161-40d1-b40f-fb930e820875"
      },
      "outputs": [
        {
          "output_type": "stream",
          "name": "stdout",
          "text": [
            "10\n"
          ]
        }
      ],
      "source": [
        "class hello:\n",
        "  def __init__(self, value):\n",
        "    self.value = value\n",
        "  def value_print(self):\n",
        "    print(self.value)\n",
        "\n",
        "obji = hello(10)\n",
        "obji.value_print()"
      ]
    },
    {
      "cell_type": "code",
      "source": [
        "class Person:\n",
        "  def __init__(self, value):\n",
        "    self.value = value\n",
        "  def chayan_function(self):\n",
        "    print(\"Hello my name is: \",self.value)\n",
        "\n",
        "p1 = Person('Chayan')\n",
        "p2 = Person('Tanvir')\n",
        "p3 = Person('Saima')\n",
        "\n",
        "p1.chayan_function()\n",
        "p2.chayan_function()\n",
        "p3.chayan_function()"
      ],
      "metadata": {
        "colab": {
          "base_uri": "https://localhost:8080/"
        },
        "id": "NRt1yy3nhWdo",
        "outputId": "cfcebef3-d945-4d8e-a2a4-711399f7998b"
      },
      "execution_count": 6,
      "outputs": [
        {
          "output_type": "stream",
          "name": "stdout",
          "text": [
            "Hello my name is:  Chayan\n",
            "Hello my name is:  Tanvir\n",
            "Hello my name is:  Saima\n"
          ]
        }
      ]
    }
  ]
}