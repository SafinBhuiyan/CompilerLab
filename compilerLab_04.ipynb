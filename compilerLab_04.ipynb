{
  "nbformat": 4,
  "nbformat_minor": 0,
  "metadata": {
    "colab": {
      "provenance": [],
      "authorship_tag": "ABX9TyN1EImJDI44WdjQnDY0ePm+",
      "include_colab_link": true
    },
    "kernelspec": {
      "name": "python3",
      "display_name": "Python 3"
    },
    "language_info": {
      "name": "python"
    }
  },
  "cells": [
    {
      "cell_type": "markdown",
      "metadata": {
        "id": "view-in-github",
        "colab_type": "text"
      },
      "source": [
        "<a href=\"https://colab.research.google.com/github/SafinBhuiyan/CompilerLab/blob/main/compilerLab_04.ipynb\" target=\"_parent\"><img src=\"https://colab.research.google.com/assets/colab-badge.svg\" alt=\"Open In Colab\"/></a>"
      ]
    },
    {
      "cell_type": "code",
      "execution_count": 3,
      "metadata": {
        "colab": {
          "base_uri": "https://localhost:8080/"
        },
        "id": "mcgR0HdHdWkP",
        "outputId": "d91c6699-a161-40d1-b40f-fb930e820875"
      },
      "outputs": [
        {
          "output_type": "stream",
          "name": "stdout",
          "text": [
            "10\n"
          ]
        }
      ],
      "source": [
        "class hello:\n",
        "  def __init__(self, value):\n",
        "    self.value = value\n",
        "  def value_print(self):\n",
        "    print(self.value)\n",
        "\n",
        "obji = hello(10)\n",
        "obji.value_print()"
      ]
    },
    {
      "cell_type": "code",
      "source": [
        "class Person:\n",
        "  def __init__(self, value,age):\n",
        "    self.value = value\n",
        "    self.age =age\n",
        "  def chayan_function(self):\n",
        "    print(\"Hello my name is: \",self.value)\n",
        "  def printAge(self):\n",
        "    print(\"My age is \",self.age)\n",
        "p1 = Person('Chayan',45)\n",
        "p2 = Person('Sagor',66)\n",
        "p3 = Person('Rakib',69)\n",
        "\n",
        "p1.chayan_function()\n",
        "p1.printAge()\n",
        "p2.chayan_function()\n",
        "p2.printAge()\n",
        "p3.chayan_function()\n",
        "p3.printAge()"
      ],
      "metadata": {
        "colab": {
          "base_uri": "https://localhost:8080/"
        },
        "id": "NRt1yy3nhWdo",
        "outputId": "2bf9a741-abe5-49dc-8a6a-b4cfba5f16b5"
      },
      "execution_count": 11,
      "outputs": [
        {
          "output_type": "stream",
          "name": "stdout",
          "text": [
            "Hello my name is:  Chayan\n",
            "My age is  45\n",
            "Hello my name is:  Sagor\n",
            "My age is  66\n",
            "Hello my name is:  Rakib\n",
            "My age is  69\n"
          ]
        }
      ]
    }
  ]
}